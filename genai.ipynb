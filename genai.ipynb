{
 "cells": [
  {
   "cell_type": "markdown",
   "metadata": {},
   "source": [
    "### Loading the data"
   ]
  },
  {
   "cell_type": "code",
   "execution_count": 1,
   "metadata": {},
   "outputs": [],
   "source": [
    "from llama_index.core import SimpleDirectoryReader\n",
    "\n",
    "# Loading the documents\n",
    "document = SimpleDirectoryReader(\"data\").load_data()"
   ]
  },
  {
   "cell_type": "markdown",
   "metadata": {},
   "source": [
    "### Chunking and Indexing the document"
   ]
  },
  {
   "cell_type": "code",
   "execution_count": 2,
   "metadata": {},
   "outputs": [
    {
     "name": "stderr",
     "output_type": "stream",
     "text": [
      "c:\\Users\\AndrewMarfo\\OneDrive - AmaliTech gGmbH\\Labs\\Week 10\\paul_graham_chatbot\\.venv\\Lib\\site-packages\\tqdm\\auto.py:21: TqdmWarning: IProgress not found. Please update jupyter and ipywidgets. See https://ipywidgets.readthedocs.io/en/stable/user_install.html\n",
      "  from .autonotebook import tqdm as notebook_tqdm\n"
     ]
    }
   ],
   "source": [
    "from llama_index.core import VectorStoreIndex, Settings\n",
    "from llama_index.core.node_parser import SentenceSplitter\n",
    "from llama_index.embeddings.huggingface import HuggingFaceEmbedding\n",
    "\n",
    "# Setting the embedding model\n",
    "Settings.embed_model = HuggingFaceEmbedding(\n",
    "    model_name=\"BAAI/bge-small-en-v1.5\"\n",
    ")\n",
    "\n",
    "# Setting the text splitter\n",
    "text_splitter = SentenceSplitter(chunk_size=1000)\n",
    "Settings.text_splitter = text_splitter\n",
    "\n",
    "\n",
    "# Creating a vector index\n",
    "index = VectorStoreIndex.from_documents(document, transformations=[text_splitter], embed_model=Settings.embed_model)\n",
    "\n",
    "# Saving the index\n",
    "index.storage_context.persist(persist_dir=\"storage\")"
   ]
  },
  {
   "cell_type": "markdown",
   "metadata": {},
   "source": [
    "### Setting up Gemini llm Setup"
   ]
  },
  {
   "cell_type": "code",
   "execution_count": 16,
   "metadata": {},
   "outputs": [],
   "source": [
    "import google.generativeai as gai\n",
    "from llama_index.llms.gemini import Gemini\n",
    "from dotenv import load_dotenv\n",
    "import os \n",
    "\n",
    "load_dotenv()\n",
    "api_key = os.getenv('api_key')\n",
    "model = 'models/gemini-2.0-flash'\n",
    "\n",
    "llm = Gemini(model=model, api_key=api_key)\n",
    "Settings.llm = llm"
   ]
  },
  {
   "cell_type": "markdown",
   "metadata": {},
   "source": [
    "### Retrieving Context and Generating response"
   ]
  },
  {
   "cell_type": "code",
   "execution_count": 17,
   "metadata": {},
   "outputs": [
    {
     "data": {
      "text/markdown": [
       "Y Combinator (YC) is an organization that the author helped run. It was initially controlled by an LLC started by the author and three others, but was later reorganized.\n"
      ],
      "text/plain": [
       "<IPython.core.display.Markdown object>"
      ]
     },
     "metadata": {},
     "output_type": "display_data"
    }
   ],
   "source": [
    "from IPython.display import display, Markdown\n",
    "\n",
    "def display_response(response_text):\n",
    "    \"\"\"\n",
    "    Displays the response as markdown in Colab.\n",
    "    Handles empty responses gracefully.\n",
    "    \"\"\"\n",
    "    if response_text:\n",
    "        try:\n",
    "            display(Markdown(response_text))\n",
    "        except Exception as e:\n",
    "            print(\"Error displaying markdown:\", str(e))\n",
    "            print(response_text)\n",
    "    else:\n",
    "        print(\"No response received.\")\n",
    "\n",
    "def ask_question(question):\n",
    "    query_engine = index.as_query_engine()\n",
    "    response = query_engine.query(question)\n",
    "    answer = response.response\n",
    "    display_response(answer)\n",
    "\n",
    "ask_question(\"What is Y/C?\")"
   ]
  }
 ],
 "metadata": {
  "kernelspec": {
   "display_name": ".venv",
   "language": "python",
   "name": "python3"
  },
  "language_info": {
   "codemirror_mode": {
    "name": "ipython",
    "version": 3
   },
   "file_extension": ".py",
   "mimetype": "text/x-python",
   "name": "python",
   "nbconvert_exporter": "python",
   "pygments_lexer": "ipython3",
   "version": "3.13.0"
  }
 },
 "nbformat": 4,
 "nbformat_minor": 2
}
